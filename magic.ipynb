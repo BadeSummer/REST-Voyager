{
 "cells": [
  {
   "cell_type": "code",
   "execution_count": 32,
   "metadata": {},
   "outputs": [],
   "source": [
    "from connect import connect_to_vas, send_request, find_event, disconnect_from_vas\n",
    "import json\n",
    "import uuid\n",
    "\n",
    "uid = str(uuid.uuid4())\n",
    "\n",
    "sock = connect_to_vas()\n",
    "\n",
    "request = {\n",
    "    \"method\": \"RemoteGetCCDTemperature\",\n",
    "    \"params\": {\n",
    "        \"UID\": uid\n",
    "        },\n",
    "    \"id\": 1\n",
    "}\n"
   ]
  },
  {
   "cell_type": "code",
   "execution_count": 33,
   "metadata": {},
   "outputs": [],
   "source": [
    "send_request(sock, request)"
   ]
  },
  {
   "cell_type": "code",
   "execution_count": 34,
   "metadata": {},
   "outputs": [
    {
     "data": {
      "text/plain": [
       "'{\"Event\":\"Version\",\"Timestamp\":1720960376.33816,\"Host\":\"DESKTOP-A201027\",\"Inst\":1,\"VOYVersion\":\"Release 2.3.11 - Built 2024-05-25\",\"VOYSubver\":\"\",\"MsgVersion\":1}\\r\\n{\"jsonrpc\": \"2.0\", \"result\": 0, \"id\": 1}\\r\\n{\"Event\":\"RemoteActionResult\",\"Timestamp\":1720960378.31199,\"Host\":\"DESKTOP-A201027\",\"Inst\":1,\"UID\":\"bbfb9366-e73e-4611-8bbd-6747c5a2094a\",\"ActionResultInt\":5,\"Motivo\":\"No Camera Selected\",\"ParamRet\":{}}\\r\\n{\"Event\":\"Polling\",\"Timestamp\":1720960383.33117,\"Host\":\"DESKTOP-A201027\",\"Inst\":1}\\r\\n'"
      ]
     },
     "execution_count": 34,
     "metadata": {},
     "output_type": "execute_result"
    }
   ],
   "source": [
    "response = sock.recv(4096).decode('utf-8')\n",
    "response"
   ]
  },
  {
   "cell_type": "code",
   "execution_count": 35,
   "metadata": {},
   "outputs": [
    {
     "data": {
      "text/plain": [
       "['{\"Event\":\"Version\",\"Timestamp\":1720960376.33816,\"Host\":\"DESKTOP-A201027\",\"Inst\":1,\"VOYVersion\":\"Release 2.3.11 - Built 2024-05-25\",\"VOYSubver\":\"\",\"MsgVersion\":1}',\n",
       " '{\"jsonrpc\": \"2.0\", \"result\": 0, \"id\": 1}',\n",
       " '{\"Event\":\"RemoteActionResult\",\"Timestamp\":1720960378.31199,\"Host\":\"DESKTOP-A201027\",\"Inst\":1,\"UID\":\"bbfb9366-e73e-4611-8bbd-6747c5a2094a\",\"ActionResultInt\":5,\"Motivo\":\"No Camera Selected\",\"ParamRet\":{}}',\n",
       " '{\"Event\":\"Polling\",\"Timestamp\":1720960383.33117,\"Host\":\"DESKTOP-A201027\",\"Inst\":1}',\n",
       " '']"
      ]
     },
     "execution_count": 35,
     "metadata": {},
     "output_type": "execute_result"
    }
   ],
   "source": [
    "lines = response.split('\\r\\n')\n",
    "lines"
   ]
  },
  {
   "cell_type": "code",
   "execution_count": 26,
   "metadata": {},
   "outputs": [
    {
     "data": {
      "text/plain": [
       "{'Event': 'RemoteActionResult',\n",
       " 'Timestamp': 1720960305.78971,\n",
       " 'Host': 'DESKTOP-A201027',\n",
       " 'Inst': 1,\n",
       " 'UID': 'c41bee30-a5da-4c07-aa3a-1310ddfbc096',\n",
       " 'ActionResultInt': 5,\n",
       " 'Motivo': 'No Camera Selected',\n",
       " 'ParamRet': {}}"
      ]
     },
     "execution_count": 26,
     "metadata": {},
     "output_type": "execute_result"
    }
   ],
   "source": [
    "response_data = find_event(lines, \"RemoteActionResult\")\n",
    "response_data"
   ]
  },
  {
   "cell_type": "code",
   "execution_count": 27,
   "metadata": {},
   "outputs": [],
   "source": [
    "response_data.get('ParamRet').get('CCDTemp')"
   ]
  },
  {
   "cell_type": "code",
   "execution_count": 29,
   "metadata": {},
   "outputs": [],
   "source": [
    "# disconnect_from_vas(sock)\n",
    "\n",
    "close_request = {\n",
    "    'method': 'disconnect',\n",
    "    'id' : 1\n",
    "}"
   ]
  },
  {
   "cell_type": "code",
   "execution_count": 30,
   "metadata": {},
   "outputs": [],
   "source": [
    "send_request(sock, close_request)"
   ]
  },
  {
   "cell_type": "code",
   "execution_count": 31,
   "metadata": {},
   "outputs": [
    {
     "ename": "ConnectionAbortedError",
     "evalue": "[WinError 10053] 你的主机中的软件中止了一个已建立的连接。",
     "output_type": "error",
     "traceback": [
      "\u001b[1;31m---------------------------------------------------------------------------\u001b[0m",
      "\u001b[1;31mConnectionAbortedError\u001b[0m                    Traceback (most recent call last)",
      "Cell \u001b[1;32mIn[31], line 1\u001b[0m\n\u001b[1;32m----> 1\u001b[0m close_response \u001b[38;5;241m=\u001b[39m \u001b[43msock\u001b[49m\u001b[38;5;241;43m.\u001b[39;49m\u001b[43mrecv\u001b[49m\u001b[43m(\u001b[49m\u001b[38;5;241;43m4096\u001b[39;49m\u001b[43m)\u001b[49m\u001b[38;5;241m.\u001b[39mdecode(\u001b[38;5;124m'\u001b[39m\u001b[38;5;124mutf-8\u001b[39m\u001b[38;5;124m'\u001b[39m)\n\u001b[0;32m      2\u001b[0m close_response\n",
      "\u001b[1;31mConnectionAbortedError\u001b[0m: [WinError 10053] 你的主机中的软件中止了一个已建立的连接。"
     ]
    }
   ],
   "source": [
    "close_response = sock.recv(4096).decode('utf-8')\n",
    "close_response"
   ]
  },
  {
   "cell_type": "code",
   "execution_count": 61,
   "metadata": {},
   "outputs": [
    {
     "data": {
      "text/plain": [
       "['{\"Event\":\"Polling\",\"Timestamp\":1720926409.87474,\"Host\":\"DESKTOP-A201027\",\"Inst\":1}',\n",
       " '{\"Event\":\"Polling\",\"Timestamp\":1720926414.88742,\"Host\":\"DESKTOP-A201027\",\"Inst\":1}',\n",
       " '{\"jsonrpc\": \"2.0\", \"result\": 0, \"id\": 1}',\n",
       " '']"
      ]
     },
     "execution_count": 61,
     "metadata": {},
     "output_type": "execute_result"
    },
    {
     "ename": "",
     "evalue": "",
     "output_type": "error",
     "traceback": [
      "\u001b[1;31mThe Kernel crashed while executing code in the current cell or a previous cell. \n",
      "\u001b[1;31mPlease review the code in the cell(s) to identify a possible cause of the failure. \n",
      "\u001b[1;31mClick <a href='https://aka.ms/vscodeJupyterKernelCrash'>here</a> for more info. \n",
      "\u001b[1;31mView Jupyter <a href='command:jupyter.viewOutput'>log</a> for further details."
     ]
    }
   ],
   "source": [
    "close_lines = close_response.split('\\r\\n')\n",
    "close_lines"
   ]
  },
  {
   "cell_type": "code",
   "execution_count": null,
   "metadata": {},
   "outputs": [],
   "source": []
  }
 ],
 "metadata": {
  "kernelspec": {
   "display_name": "Python 3",
   "language": "python",
   "name": "python3"
  },
  "language_info": {
   "codemirror_mode": {
    "name": "ipython",
    "version": 3
   },
   "file_extension": ".py",
   "mimetype": "text/x-python",
   "name": "python",
   "nbconvert_exporter": "python",
   "pygments_lexer": "ipython3",
   "version": "3.12.0"
  }
 },
 "nbformat": 4,
 "nbformat_minor": 2
}
