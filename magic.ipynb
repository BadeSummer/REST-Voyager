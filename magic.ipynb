{
 "cells": [
  {
   "cell_type": "code",
   "execution_count": 52,
   "metadata": {},
   "outputs": [],
   "source": [
    "from connect import connect_to_vas, send_request, find_event, disconnect_from_vas\n",
    "import json\n",
    "import uuid\n",
    "\n",
    "uid = str(uuid.uuid4())\n",
    "\n",
    "sock = connect_to_vas()\n",
    "\n",
    "request = {\n",
    "    \"method\": \"RemoteGetCCDTemperature\",\n",
    "    \"params\": {\n",
    "        \"UID\": uid\n",
    "        },\n",
    "    \"id\": 1\n",
    "}\n"
   ]
  },
  {
   "cell_type": "code",
   "execution_count": 53,
   "metadata": {},
   "outputs": [],
   "source": [
    "send_request(sock, request)"
   ]
  },
  {
   "cell_type": "code",
   "execution_count": 54,
   "metadata": {},
   "outputs": [
    {
     "data": {
      "text/plain": [
       "'{\"Event\":\"Version\",\"Timestamp\":1720926403.62712,\"Host\":\"DESKTOP-A201027\",\"Inst\":1,\"VOYVersion\":\"Release 2.3.11 - Built 2024-05-25\",\"VOYSubver\":\"\",\"MsgVersion\":1}\\r\\n{\"jsonrpc\": \"2.0\", \"result\": 0, \"id\": 1}\\r\\n{\"Event\":\"RemoteActionResult\",\"Timestamp\":1720926404.87141,\"Host\":\"DESKTOP-A201027\",\"Inst\":1,\"UID\":\"1ff10d62-b7b2-43dc-868e-8a4088161837\",\"ActionResultInt\":5,\"Motivo\":\"No Camera Selected\",\"ParamRet\":{}}\\r\\n'"
      ]
     },
     "execution_count": 54,
     "metadata": {},
     "output_type": "execute_result"
    }
   ],
   "source": [
    "response = sock.recv(4096).decode('utf-8')\n",
    "response"
   ]
  },
  {
   "cell_type": "code",
   "execution_count": 55,
   "metadata": {},
   "outputs": [
    {
     "data": {
      "text/plain": [
       "['{\"Event\":\"Version\",\"Timestamp\":1720926403.62712,\"Host\":\"DESKTOP-A201027\",\"Inst\":1,\"VOYVersion\":\"Release 2.3.11 - Built 2024-05-25\",\"VOYSubver\":\"\",\"MsgVersion\":1}',\n",
       " '{\"jsonrpc\": \"2.0\", \"result\": 0, \"id\": 1}',\n",
       " '{\"Event\":\"RemoteActionResult\",\"Timestamp\":1720926404.87141,\"Host\":\"DESKTOP-A201027\",\"Inst\":1,\"UID\":\"1ff10d62-b7b2-43dc-868e-8a4088161837\",\"ActionResultInt\":5,\"Motivo\":\"No Camera Selected\",\"ParamRet\":{}}',\n",
       " '']"
      ]
     },
     "execution_count": 55,
     "metadata": {},
     "output_type": "execute_result"
    }
   ],
   "source": [
    "lines = response.split('\\r\\n')\n",
    "lines"
   ]
  },
  {
   "cell_type": "code",
   "execution_count": 56,
   "metadata": {},
   "outputs": [
    {
     "data": {
      "text/plain": [
       "{'Event': 'RemoteActionResult',\n",
       " 'Timestamp': 1720926404.87141,\n",
       " 'Host': 'DESKTOP-A201027',\n",
       " 'Inst': 1,\n",
       " 'UID': '1ff10d62-b7b2-43dc-868e-8a4088161837',\n",
       " 'ActionResultInt': 5,\n",
       " 'Motivo': 'No Camera Selected',\n",
       " 'ParamRet': {}}"
      ]
     },
     "execution_count": 56,
     "metadata": {},
     "output_type": "execute_result"
    }
   ],
   "source": [
    "response_data = find_event(lines, \"RemoteActionResult\")\n",
    "response_data"
   ]
  },
  {
   "cell_type": "code",
   "execution_count": 57,
   "metadata": {},
   "outputs": [],
   "source": [
    "response_data.get('ParamRet').get('CCDTemp')"
   ]
  },
  {
   "cell_type": "code",
   "execution_count": 58,
   "metadata": {},
   "outputs": [],
   "source": [
    "# disconnect_from_vas(sock)\n",
    "\n",
    "close_request = {\n",
    "    'method': 'disconnect',\n",
    "    'id' : 1\n",
    "}"
   ]
  },
  {
   "cell_type": "code",
   "execution_count": 59,
   "metadata": {},
   "outputs": [],
   "source": [
    "send_request(sock, close_request)"
   ]
  },
  {
   "cell_type": "code",
   "execution_count": 60,
   "metadata": {},
   "outputs": [
    {
     "data": {
      "text/plain": [
       "'{\"Event\":\"Polling\",\"Timestamp\":1720926409.87474,\"Host\":\"DESKTOP-A201027\",\"Inst\":1}\\r\\n{\"Event\":\"Polling\",\"Timestamp\":1720926414.88742,\"Host\":\"DESKTOP-A201027\",\"Inst\":1}\\r\\n{\"jsonrpc\": \"2.0\", \"result\": 0, \"id\": 1}\\r\\n'"
      ]
     },
     "execution_count": 60,
     "metadata": {},
     "output_type": "execute_result"
    }
   ],
   "source": [
    "close_response = sock.recv(4096).decode('utf-8')\n",
    "close_response"
   ]
  },
  {
   "cell_type": "code",
   "execution_count": 61,
   "metadata": {},
   "outputs": [
    {
     "data": {
      "text/plain": [
       "['{\"Event\":\"Polling\",\"Timestamp\":1720926409.87474,\"Host\":\"DESKTOP-A201027\",\"Inst\":1}',\n",
       " '{\"Event\":\"Polling\",\"Timestamp\":1720926414.88742,\"Host\":\"DESKTOP-A201027\",\"Inst\":1}',\n",
       " '{\"jsonrpc\": \"2.0\", \"result\": 0, \"id\": 1}',\n",
       " '']"
      ]
     },
     "execution_count": 61,
     "metadata": {},
     "output_type": "execute_result"
    }
   ],
   "source": [
    "close_lines = close_response.split('\\r\\n')\n",
    "close_lines"
   ]
  },
  {
   "cell_type": "code",
   "execution_count": null,
   "metadata": {},
   "outputs": [],
   "source": []
  }
 ],
 "metadata": {
  "kernelspec": {
   "display_name": "Python 3",
   "language": "python",
   "name": "python3"
  },
  "language_info": {
   "codemirror_mode": {
    "name": "ipython",
    "version": 3
   },
   "file_extension": ".py",
   "mimetype": "text/x-python",
   "name": "python",
   "nbconvert_exporter": "python",
   "pygments_lexer": "ipython3",
   "version": "3.12.0"
  }
 },
 "nbformat": 4,
 "nbformat_minor": 2
}
