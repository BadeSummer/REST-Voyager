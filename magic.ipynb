{
 "cells": [
  {
   "cell_type": "code",
   "execution_count": 1,
   "metadata": {},
   "outputs": [],
   "source": [
    "from connect import connect_to_vas, send_request, receive_response, find_event, disconnect_to_vas\n",
    "import uuid\n",
    "import time\n",
    "import json\n",
    "uid = str(uuid.uuid4())\n",
    "\n",
    "sock = connect_to_vas()\n",
    "\n",
    "set_dashboard_mode_request = {\n",
    "    \"method\": \"RemoteSetDashboardMode\",\n",
    "    \"params\": {\n",
    "        \"UID\": uid,\n",
    "        \"IsOn\": \"true\"\n",
    "        },\n",
    "    \"id\": 2\n",
    "}\n"
   ]
  },
  {
   "cell_type": "code",
   "execution_count": 2,
   "metadata": {},
   "outputs": [],
   "source": [
    "from connect import vas_polling"
   ]
  },
  {
   "cell_type": "code",
   "execution_count": 3,
   "metadata": {},
   "outputs": [],
   "source": [
    "send_request(sock, set_dashboard_mode_request)\n"
   ]
  },
  {
   "cell_type": "code",
   "execution_count": 4,
   "metadata": {},
   "outputs": [
    {
     "name": "stdout",
     "output_type": "stream",
     "text": [
      "count: 0 and response_lines: \n",
      "['{\"Event\":\"Version\",\"Timestamp\":1720998314.61521,\"Host\":\"DESKTOP-A201027\",\"Inst\":1,\"VOYVersion\":\"Release 2.3.11 - Built 2024-05-25\",\"VOYSubver\":\"\",\"MsgVersion\":1}', '{\"jsonrpc\": \"2.0\", \"result\": 0, \"id\": 2}', '{\"Event\":\"VikingManaged\",\"Timestamp\":1720998315.13813,\"Host\":\"DESKTOP-A201027\",\"Inst\":1,\"IsManaged\":false,\"ClientNum\":1}', '{\"Event\":\"VikingManaged\",\"Timestamp\":1720998315.13913,\"Host\":\"DESKTOP-A201027\",\"Inst\":1,\"IsManaged\":false,\"ClientNum\":2}', '{\"Event\":\"RemoteActionResult\",\"Timestamp\":1720998315.23012,\"Host\":\"DESKTOP-A201027\",\"Inst\":1,\"UID\":\"51e1ac3c-5df8-422e-bd8c-654e993f6504\",\"ActionResultInt\":4,\"Motivo\":\"\",\"ParamRet\":{}}', '{\"Event\":\"ControlData\",\"Timestamp\":1720998315.5223,\"Host\":\"DESKTOP-A201027\",\"Inst\":1,\"TI\":\"2024-07-14 23:05:15\",\"TIUTC\":\"2024-07-14 15:05:15\",\"VOYSTAT\":0,\"SETUPCONN\":false,\"CCDCONN\":false,\"CCDTEMP\":123456789,\"CCDPOW\":123456789,\"CCDSETP\":-123456789,\"CCDCOOL\":false,\"CCDSTAT\":1,\"MNTCONN\":false,\"MNTPARK\":false,\"MNTRA\":\"\",\"MNTDEC\":\"\",\"MNTRAJ2000\":\"\",\"MNTDECJ2000\":\"\",\"MNTAZ\":\"\",\"MNTALT\":\"\",\"MNTPIER\":\"\",\"MNTTFLIP\":\"\",\"MNTSFLIP\":5,\"MNTTRACK\":false,\"MNTSLEW\":false,\"AFCONN\":false,\"AFTEMP\":123456789,\"AFPOS\":123456789,\"SEQTOT\":0,\"SEQPARZ\":0,\"GUIDECONN\":false,\"GUIDESTAT\":0,\"DITHSTAT\":0,\"GUIDEX\":0,\"GUIDEY\":0,\"PLACONN\":false,\"PSCONN\":false,\"SEQNAME\":\"\",\"SEQSTART\":\"\",\"SEQREMAIN\":\"\",\"SEQEND\":\"\",\"RUNSEQ\":\"\",\"RUNDS\":\"\",\"ROTCONN\":false,\"ROTPA\":123456789,\"ROTSKYPA\":123456789,\"ROTISROT\":false,\"DOMECONN\":false,\"DOMESHUTTER\":\"\",\"DOMEPA\":123456789,\"DOMEISMOV\":false}', '{\"Event\":\"ControlData\",\"Timestamp\":1720998317.52548,\"Host\":\"DESKTOP-A201027\",\"Inst\":1,\"TI\":\"2024-07-14 23:05:17\",\"TIUTC\":\"2024-07-14 15:05:17\",\"VOYSTAT\":0,\"SETUPCONN\":false,\"CCDCONN\":false,\"CCDTEMP\":123456789,\"CCDPOW\":123456789,\"CCDSETP\":-123456789,\"CCDCOOL\":false,\"CCDSTAT\":1,\"MNTCONN\":false,\"MNTPARK\":false,\"MNTRA\":\"\",\"MNTDEC\":\"\",\"MNTRAJ2000\":\"\",\"MNTDECJ2000\":\"\",\"MNTAZ\":\"\",\"MNTALT\":\"\",\"MNTPIER\":\"\",\"MNTTFLIP\":\"\",\"MNTSFLIP\":5,\"MNTTRACK\":false,\"MNTSLEW\":false,\"AFCONN\":false,\"AFTEMP\":123456789,\"AFPOS\":123456789,\"SEQTOT\":0,\"SEQPARZ\":0,\"GUIDECONN\":false,\"GUIDESTAT\":0,\"DITHSTAT\":0,\"GUIDEX\":0,\"GUIDEY\":0,\"PLACONN\":false,\"PSCONN\":false,\"SEQNAME\":\"\",\"SEQSTART\":\"\",\"SEQREMAIN\":\"\",\"SEQEND\":\"\",\"RUNSEQ\":\"\",\"RUNDS\":\"\",\"ROTCONN\":false,\"ROTPA\":123456789,\"ROTSKYPA\":123456789,\"ROTISROT\":false,\"DOMECONN\":false,\"DOMESHUTTER\":\"\",\"DOMEPA\":123456789,\"DOMEISMOV\":false}', '{\"Event\":\"ControlData\",\"Timestamp\":1720998319.53661,\"Host\":\"DESKTOP-A201027\",\"Inst\":1,\"TI\":\"2024-07-14 23:05:19\",\"TIUTC\":\"2024-07-14 15:05:19\",\"VOYSTAT\":0,\"SETUPCONN\":false,\"CCDCONN\":false,\"CCDTEMP\":123456789,\"CCDPOW\":123456789,\"CCDSETP\":-123456789,\"CCDCOOL\":false,\"CCDSTAT\":1,\"MNTCONN\":false,\"MNTPARK\":false,\"MNTRA\":\"\",\"MNTDEC\":\"\",\"MNTRAJ2000\":\"\",\"MNTDECJ2000\":\"\",\"MNTAZ\":\"\",\"MNTALT\":\"\",\"MNTPIER\":\"\",\"MNTTFLIP\":\"\",\"MNTSFLIP\":5,\"MNTTRACK\":false,\"MNTSLEW\":false,\"AFCONN\":false,\"AFTEMP\":123456789,\"AFPOS\":123456789,\"SEQTOT\":0,\"SEQPARZ\":0,\"GUIDECONN\":false,\"GUIDESTAT\":0,\"DITHSTAT\":0,\"GUIDEX\":0,\"GUIDEY\":0,\"PLACONN\":false,\"PSCONN\":false,\"SEQNAME\":\"\",\"SEQSTART\":\"\",\"SEQREMAIN\":\"\",\"SEQEND\":\"\",\"RUNSEQ\":\"\",\"RUNDS\":\"\",\"ROTCONN\":false,\"ROTPA\":123456789,\"ROTSKYPA\":123456789,\"ROTISROT\":false,\"DOMECONN\":false,\"DOMESHUTTER\":\"\",\"DOMEPA\":123456789,\"DOMEISMOV\":false}', '']\n"
     ]
    }
   ],
   "source": [
    "control_data = None\n",
    "count = 0\n",
    "while (not control_data) and count < 3:\n",
    "    # vas_polling(sock)\n",
    "    time.sleep(3)\n",
    "    response_lines = receive_response(sock)\n",
    "    print(f\"count: {count} and response_lines: \\n{response_lines}\")\n",
    "\n",
    "\n",
    "    control_data = find_event(response_lines, \"ControlData\")\n",
    "    if control_data:\n",
    "        with open(\"control_data.json\", \"w\") as f:\n",
    "            f.write(json.dumps(control_data, indent=4))\n",
    "\n",
    "    else:\n",
    "        count += 1"
   ]
  },
  {
   "cell_type": "code",
   "execution_count": null,
   "metadata": {},
   "outputs": [],
   "source": [
    "disconnect_to_vas(sock)"
   ]
  },
  {
   "cell_type": "code",
   "execution_count": 17,
   "metadata": {},
   "outputs": [
    {
     "data": {
      "text/plain": [
       "1720968889.7078733"
      ]
     },
     "execution_count": 17,
     "metadata": {},
     "output_type": "execute_result"
    }
   ],
   "source": [
    "time.time()"
   ]
  },
  {
   "cell_type": "code",
   "execution_count": 1,
   "metadata": {},
   "outputs": [
    {
     "ename": "NameError",
     "evalue": "name '__file__' is not defined",
     "output_type": "error",
     "traceback": [
      "\u001b[1;31m---------------------------------------------------------------------------\u001b[0m",
      "\u001b[1;31mNameError\u001b[0m                                 Traceback (most recent call last)",
      "Cell \u001b[1;32mIn[1], line 2\u001b[0m\n\u001b[0;32m      1\u001b[0m \u001b[38;5;28;01mimport\u001b[39;00m \u001b[38;5;21;01mos\u001b[39;00m\n\u001b[1;32m----> 2\u001b[0m script_dir \u001b[38;5;241m=\u001b[39m os\u001b[38;5;241m.\u001b[39mpath\u001b[38;5;241m.\u001b[39mdirname(os\u001b[38;5;241m.\u001b[39mpath\u001b[38;5;241m.\u001b[39mabspath(\u001b[38;5;18;43m__file__\u001b[39;49m))\n",
      "\u001b[1;31mNameError\u001b[0m: name '__file__' is not defined"
     ]
    }
   ],
   "source": [
    "import os\n",
    "script_dir = os.path.dirname(os.path.abspath(__file__))"
   ]
  },
  {
   "cell_type": "code",
   "execution_count": null,
   "metadata": {},
   "outputs": [],
   "source": []
  }
 ],
 "metadata": {
  "kernelspec": {
   "display_name": "Python 3",
   "language": "python",
   "name": "python3"
  },
  "language_info": {
   "codemirror_mode": {
    "name": "ipython",
    "version": 3
   },
   "file_extension": ".py",
   "mimetype": "text/x-python",
   "name": "python",
   "nbconvert_exporter": "python",
   "pygments_lexer": "ipython3",
   "version": "3.10.13"
  }
 },
 "nbformat": 4,
 "nbformat_minor": 2
}
